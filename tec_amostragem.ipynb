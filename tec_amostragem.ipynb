{
  "nbformat": 4,
  "nbformat_minor": 0,
  "metadata": {
    "colab": {
      "name": "tec_amostragem.ipynb",
      "provenance": [],
      "collapsed_sections": [],
      "authorship_tag": "ABX9TyNRkl2rL0C8lfKG/slftOHO",
      "include_colab_link": true
    },
    "kernelspec": {
      "name": "python3",
      "display_name": "Python 3"
    }
  },
  "cells": [
    {
      "cell_type": "markdown",
      "metadata": {
        "id": "view-in-github",
        "colab_type": "text"
      },
      "source": [
        "<a href=\"https://colab.research.google.com/github/JulioHenri/Analise-Restaurante/blob/master/tec_amostragem.ipynb\" target=\"_parent\"><img src=\"https://colab.research.google.com/assets/colab-badge.svg\" alt=\"Open In Colab\"/></a>"
      ]
    },
    {
      "cell_type": "markdown",
      "metadata": {
        "id": "ewTpkhhZ7lDV"
      },
      "source": [
        "# Importando bibliotecas"
      ]
    },
    {
      "cell_type": "code",
      "metadata": {
        "id": "Dj_IMDaK7gNC"
      },
      "source": [
        "import pandas as pd\n",
        "import numpy as np"
      ],
      "execution_count": 1,
      "outputs": []
    },
    {
      "cell_type": "markdown",
      "metadata": {
        "id": "iM_m-qEp7tZF"
      },
      "source": [
        "# Carregando e lendo o banco de dados"
      ]
    },
    {
      "cell_type": "code",
      "metadata": {
        "id": "NsWtAGIM7kTM",
        "outputId": "d2326dbb-2d08-4e69-9fa9-56cb96bc39c9",
        "colab": {
          "base_uri": "https://localhost:8080/",
          "height": 287
        }
      },
      "source": [
        "dados = pd.read_csv('HR_Engagement_Sat_Sales_UpdatedV4.0.csv') #carregando arquivo csv\n",
        "dados.head() #lendo os 5 primeiros registros do dataset"
      ],
      "execution_count": 2,
      "outputs": [
        {
          "output_type": "execute_result",
          "data": {
            "text/html": [
              "<div>\n",
              "<style scoped>\n",
              "    .dataframe tbody tr th:only-of-type {\n",
              "        vertical-align: middle;\n",
              "    }\n",
              "\n",
              "    .dataframe tbody tr th {\n",
              "        vertical-align: top;\n",
              "    }\n",
              "\n",
              "    .dataframe thead th {\n",
              "        text-align: right;\n",
              "    }\n",
              "</style>\n",
              "<table border=\"1\" class=\"dataframe\">\n",
              "  <thead>\n",
              "    <tr style=\"text-align: right;\">\n",
              "      <th></th>\n",
              "      <th>ID</th>\n",
              "      <th>Name</th>\n",
              "      <th>Department</th>\n",
              "      <th>GEO</th>\n",
              "      <th>Role</th>\n",
              "      <th>Rising_Star</th>\n",
              "      <th>Will_Relocate</th>\n",
              "      <th>Critical</th>\n",
              "      <th>Trending Perf</th>\n",
              "      <th>Talent_Level</th>\n",
              "      <th>Validated_Talent_Level</th>\n",
              "      <th>Percent_Remote</th>\n",
              "      <th>EMP_Sat_OnPrem_1</th>\n",
              "      <th>EMP_Sat_OnPrem_2</th>\n",
              "      <th>EMP_Sat_OnPrem_3</th>\n",
              "      <th>EMP_Sat_OnPrem_4</th>\n",
              "      <th>EMP_Sat_OnPrem_5</th>\n",
              "      <th>EMP_Sat_Remote_1</th>\n",
              "      <th>EMP_Sat_Remote_2</th>\n",
              "      <th>EMP_Sat_Remote_3</th>\n",
              "      <th>EMP_Sat_Remote_4</th>\n",
              "      <th>EMP_Sat_Remote_5</th>\n",
              "      <th>EMP_Engagement_1</th>\n",
              "      <th>EMP_Engagement_2</th>\n",
              "      <th>EMP_Engagement_3</th>\n",
              "      <th>EMP_Engagement_4</th>\n",
              "      <th>EMP_Engagement_5</th>\n",
              "      <th>last_evaluation</th>\n",
              "      <th>number_project</th>\n",
              "      <th>average_montly_hours</th>\n",
              "      <th>time_spend_company</th>\n",
              "      <th>Work_accident</th>\n",
              "      <th>left_Company</th>\n",
              "      <th>CSR Factor</th>\n",
              "      <th>promotion_last_5years</th>\n",
              "      <th>sales</th>\n",
              "      <th>salary</th>\n",
              "      <th>Gender</th>\n",
              "      <th>LinkedIn_Hits</th>\n",
              "      <th>Emp_Work_Status2</th>\n",
              "      <th>Emp_Work_Status_3</th>\n",
              "      <th>Emp_Work_Status_4</th>\n",
              "      <th>Emp_Work_Status_5</th>\n",
              "      <th>Emp_Identity</th>\n",
              "      <th>Emp_Role</th>\n",
              "      <th>Emp_Position</th>\n",
              "      <th>Emp_Title</th>\n",
              "      <th>Women_Leave</th>\n",
              "      <th>Men_Leave</th>\n",
              "      <th>Emp_Competitive_1</th>\n",
              "      <th>Emp_Competitive_2</th>\n",
              "      <th>Emp_Competitive_3</th>\n",
              "      <th>Emp_Competitive_4</th>\n",
              "      <th>Emp_Competitive_5</th>\n",
              "      <th>Emp_Collaborative_1</th>\n",
              "      <th>Emp_Collaborative_2</th>\n",
              "      <th>Emp_Collaborative_3</th>\n",
              "      <th>Emp_Collaborative_4</th>\n",
              "      <th>Emp_Collaborative_5</th>\n",
              "      <th>Sensor_StepCount</th>\n",
              "      <th>Sensor_Heartbeat(Average/Min)</th>\n",
              "      <th>Sensor_Proximity(1-highest/10-lowest)</th>\n",
              "    </tr>\n",
              "  </thead>\n",
              "  <tbody>\n",
              "    <tr>\n",
              "      <th>0</th>\n",
              "      <td>1</td>\n",
              "      <td>BRADDY</td>\n",
              "      <td>Operations</td>\n",
              "      <td>US</td>\n",
              "      <td>VP</td>\n",
              "      <td>NaN</td>\n",
              "      <td>0</td>\n",
              "      <td>1.0</td>\n",
              "      <td>3</td>\n",
              "      <td>6</td>\n",
              "      <td>6</td>\n",
              "      <td>0.4</td>\n",
              "      <td>3.0</td>\n",
              "      <td>3.0</td>\n",
              "      <td>4.0</td>\n",
              "      <td>3.0</td>\n",
              "      <td>5.0</td>\n",
              "      <td>2</td>\n",
              "      <td>3</td>\n",
              "      <td>2</td>\n",
              "      <td>3</td>\n",
              "      <td>2</td>\n",
              "      <td>5</td>\n",
              "      <td>5</td>\n",
              "      <td>4</td>\n",
              "      <td>4</td>\n",
              "      <td>3</td>\n",
              "      <td>0.36</td>\n",
              "      <td>3</td>\n",
              "      <td>168</td>\n",
              "      <td>3</td>\n",
              "      <td>1</td>\n",
              "      <td>0</td>\n",
              "      <td>NaN</td>\n",
              "      <td>0</td>\n",
              "      <td>sales</td>\n",
              "      <td>low</td>\n",
              "      <td>M</td>\n",
              "      <td>5</td>\n",
              "      <td>4</td>\n",
              "      <td>3</td>\n",
              "      <td>1</td>\n",
              "      <td>1</td>\n",
              "      <td>1</td>\n",
              "      <td>1</td>\n",
              "      <td>2</td>\n",
              "      <td>1</td>\n",
              "      <td>NaN</td>\n",
              "      <td>1.0</td>\n",
              "      <td>2</td>\n",
              "      <td>4</td>\n",
              "      <td>2</td>\n",
              "      <td>2</td>\n",
              "      <td>2</td>\n",
              "      <td>2</td>\n",
              "      <td>2</td>\n",
              "      <td>2</td>\n",
              "      <td>1</td>\n",
              "      <td>5</td>\n",
              "      <td>1841</td>\n",
              "      <td>61</td>\n",
              "      <td>9</td>\n",
              "    </tr>\n",
              "    <tr>\n",
              "      <th>1</th>\n",
              "      <td>2</td>\n",
              "      <td>BORST</td>\n",
              "      <td>Sales</td>\n",
              "      <td>UK</td>\n",
              "      <td>Senior Director</td>\n",
              "      <td>NaN</td>\n",
              "      <td>0</td>\n",
              "      <td>NaN</td>\n",
              "      <td>3</td>\n",
              "      <td>6</td>\n",
              "      <td>6</td>\n",
              "      <td>0.4</td>\n",
              "      <td>3.0</td>\n",
              "      <td>3.0</td>\n",
              "      <td>4.0</td>\n",
              "      <td>3.0</td>\n",
              "      <td>5.0</td>\n",
              "      <td>2</td>\n",
              "      <td>3</td>\n",
              "      <td>2</td>\n",
              "      <td>3</td>\n",
              "      <td>2</td>\n",
              "      <td>5</td>\n",
              "      <td>5</td>\n",
              "      <td>4</td>\n",
              "      <td>4</td>\n",
              "      <td>3</td>\n",
              "      <td>0.36</td>\n",
              "      <td>5</td>\n",
              "      <td>159</td>\n",
              "      <td>2</td>\n",
              "      <td>0</td>\n",
              "      <td>0</td>\n",
              "      <td>NaN</td>\n",
              "      <td>0</td>\n",
              "      <td>accounting</td>\n",
              "      <td>low</td>\n",
              "      <td>F</td>\n",
              "      <td>58</td>\n",
              "      <td>3</td>\n",
              "      <td>3</td>\n",
              "      <td>4</td>\n",
              "      <td>3</td>\n",
              "      <td>2</td>\n",
              "      <td>1</td>\n",
              "      <td>2</td>\n",
              "      <td>1</td>\n",
              "      <td>0.0</td>\n",
              "      <td>NaN</td>\n",
              "      <td>2</td>\n",
              "      <td>2</td>\n",
              "      <td>1</td>\n",
              "      <td>4</td>\n",
              "      <td>1</td>\n",
              "      <td>3</td>\n",
              "      <td>2</td>\n",
              "      <td>5</td>\n",
              "      <td>1</td>\n",
              "      <td>5</td>\n",
              "      <td>1990</td>\n",
              "      <td>90</td>\n",
              "      <td>8</td>\n",
              "    </tr>\n",
              "    <tr>\n",
              "      <th>2</th>\n",
              "      <td>3</td>\n",
              "      <td>BIRDWELL</td>\n",
              "      <td>Finance</td>\n",
              "      <td>France</td>\n",
              "      <td>Senior Director</td>\n",
              "      <td>NaN</td>\n",
              "      <td>0</td>\n",
              "      <td>NaN</td>\n",
              "      <td>3</td>\n",
              "      <td>6</td>\n",
              "      <td>6</td>\n",
              "      <td>0.4</td>\n",
              "      <td>3.0</td>\n",
              "      <td>3.0</td>\n",
              "      <td>4.0</td>\n",
              "      <td>3.0</td>\n",
              "      <td>5.0</td>\n",
              "      <td>2</td>\n",
              "      <td>3</td>\n",
              "      <td>2</td>\n",
              "      <td>3</td>\n",
              "      <td>2</td>\n",
              "      <td>5</td>\n",
              "      <td>5</td>\n",
              "      <td>4</td>\n",
              "      <td>4</td>\n",
              "      <td>3</td>\n",
              "      <td>0.36</td>\n",
              "      <td>2</td>\n",
              "      <td>282</td>\n",
              "      <td>3</td>\n",
              "      <td>0</td>\n",
              "      <td>0</td>\n",
              "      <td>NaN</td>\n",
              "      <td>0</td>\n",
              "      <td>product_mng</td>\n",
              "      <td>medium</td>\n",
              "      <td>F</td>\n",
              "      <td>42</td>\n",
              "      <td>2</td>\n",
              "      <td>4</td>\n",
              "      <td>1</td>\n",
              "      <td>3</td>\n",
              "      <td>1</td>\n",
              "      <td>1</td>\n",
              "      <td>2</td>\n",
              "      <td>2</td>\n",
              "      <td>1.0</td>\n",
              "      <td>NaN</td>\n",
              "      <td>1</td>\n",
              "      <td>5</td>\n",
              "      <td>1</td>\n",
              "      <td>2</td>\n",
              "      <td>5</td>\n",
              "      <td>2</td>\n",
              "      <td>2</td>\n",
              "      <td>4</td>\n",
              "      <td>4</td>\n",
              "      <td>4</td>\n",
              "      <td>3193</td>\n",
              "      <td>80</td>\n",
              "      <td>8</td>\n",
              "    </tr>\n",
              "    <tr>\n",
              "      <th>3</th>\n",
              "      <td>4</td>\n",
              "      <td>BENT</td>\n",
              "      <td>Human Resources</td>\n",
              "      <td>China</td>\n",
              "      <td>Senior Director</td>\n",
              "      <td>NaN</td>\n",
              "      <td>0</td>\n",
              "      <td>NaN</td>\n",
              "      <td>3</td>\n",
              "      <td>6</td>\n",
              "      <td>6</td>\n",
              "      <td>0.4</td>\n",
              "      <td>3.0</td>\n",
              "      <td>3.0</td>\n",
              "      <td>4.0</td>\n",
              "      <td>3.0</td>\n",
              "      <td>5.0</td>\n",
              "      <td>2</td>\n",
              "      <td>3</td>\n",
              "      <td>2</td>\n",
              "      <td>3</td>\n",
              "      <td>2</td>\n",
              "      <td>5</td>\n",
              "      <td>5</td>\n",
              "      <td>4</td>\n",
              "      <td>4</td>\n",
              "      <td>3</td>\n",
              "      <td>0.36</td>\n",
              "      <td>4</td>\n",
              "      <td>278</td>\n",
              "      <td>4</td>\n",
              "      <td>1</td>\n",
              "      <td>0</td>\n",
              "      <td>NaN</td>\n",
              "      <td>0</td>\n",
              "      <td>product_mng</td>\n",
              "      <td>high</td>\n",
              "      <td>M</td>\n",
              "      <td>37</td>\n",
              "      <td>3</td>\n",
              "      <td>1</td>\n",
              "      <td>4</td>\n",
              "      <td>5</td>\n",
              "      <td>2</td>\n",
              "      <td>1</td>\n",
              "      <td>2</td>\n",
              "      <td>1</td>\n",
              "      <td>NaN</td>\n",
              "      <td>1.0</td>\n",
              "      <td>1</td>\n",
              "      <td>1</td>\n",
              "      <td>2</td>\n",
              "      <td>5</td>\n",
              "      <td>1</td>\n",
              "      <td>1</td>\n",
              "      <td>2</td>\n",
              "      <td>4</td>\n",
              "      <td>4</td>\n",
              "      <td>1</td>\n",
              "      <td>3248</td>\n",
              "      <td>77</td>\n",
              "      <td>6</td>\n",
              "    </tr>\n",
              "    <tr>\n",
              "      <th>4</th>\n",
              "      <td>5</td>\n",
              "      <td>BAZAN</td>\n",
              "      <td>IT</td>\n",
              "      <td>Korea</td>\n",
              "      <td>Director</td>\n",
              "      <td>NaN</td>\n",
              "      <td>0</td>\n",
              "      <td>NaN</td>\n",
              "      <td>3</td>\n",
              "      <td>6</td>\n",
              "      <td>6</td>\n",
              "      <td>0.4</td>\n",
              "      <td>3.0</td>\n",
              "      <td>3.0</td>\n",
              "      <td>4.0</td>\n",
              "      <td>3.0</td>\n",
              "      <td>5.0</td>\n",
              "      <td>2</td>\n",
              "      <td>3</td>\n",
              "      <td>2</td>\n",
              "      <td>3</td>\n",
              "      <td>2</td>\n",
              "      <td>5</td>\n",
              "      <td>5</td>\n",
              "      <td>4</td>\n",
              "      <td>4</td>\n",
              "      <td>3</td>\n",
              "      <td>0.36</td>\n",
              "      <td>6</td>\n",
              "      <td>256</td>\n",
              "      <td>5</td>\n",
              "      <td>0</td>\n",
              "      <td>0</td>\n",
              "      <td>NaN</td>\n",
              "      <td>0</td>\n",
              "      <td>sales</td>\n",
              "      <td>low</td>\n",
              "      <td>F</td>\n",
              "      <td>6</td>\n",
              "      <td>4</td>\n",
              "      <td>5</td>\n",
              "      <td>4</td>\n",
              "      <td>5</td>\n",
              "      <td>1</td>\n",
              "      <td>1</td>\n",
              "      <td>2</td>\n",
              "      <td>1</td>\n",
              "      <td>1.0</td>\n",
              "      <td>NaN</td>\n",
              "      <td>1</td>\n",
              "      <td>4</td>\n",
              "      <td>1</td>\n",
              "      <td>5</td>\n",
              "      <td>3</td>\n",
              "      <td>5</td>\n",
              "      <td>1</td>\n",
              "      <td>2</td>\n",
              "      <td>5</td>\n",
              "      <td>4</td>\n",
              "      <td>3149</td>\n",
              "      <td>80</td>\n",
              "      <td>10</td>\n",
              "    </tr>\n",
              "  </tbody>\n",
              "</table>\n",
              "</div>"
            ],
            "text/plain": [
              "   ID  ... Sensor_Proximity(1-highest/10-lowest)\n",
              "0   1  ...                                     9\n",
              "1   2  ...                                     8\n",
              "2   3  ...                                     8\n",
              "3   4  ...                                     6\n",
              "4   5  ...                                    10\n",
              "\n",
              "[5 rows x 62 columns]"
            ]
          },
          "metadata": {
            "tags": []
          },
          "execution_count": 2
        }
      ]
    },
    {
      "cell_type": "code",
      "metadata": {
        "id": "uqZ-4Gsp7_ZY",
        "outputId": "ea8db365-8515-4f3e-ca3d-b68504c72ff0",
        "colab": {
          "base_uri": "https://localhost:8080/",
          "height": 1000
        }
      },
      "source": [
        "dados.info()"
      ],
      "execution_count": 3,
      "outputs": [
        {
          "output_type": "stream",
          "text": [
            "<class 'pandas.core.frame.DataFrame'>\n",
            "RangeIndex: 14999 entries, 0 to 14998\n",
            "Data columns (total 62 columns):\n",
            " #   Column                                 Non-Null Count  Dtype  \n",
            "---  ------                                 --------------  -----  \n",
            " 0   ID                                     14999 non-null  int64  \n",
            " 1   Name                                   14997 non-null  object \n",
            " 2   Department                             14999 non-null  object \n",
            " 3   GEO                                    14999 non-null  object \n",
            " 4   Role                                   14999 non-null  object \n",
            " 5   Rising_Star                            21 non-null     float64\n",
            " 6   Will_Relocate                          14999 non-null  int64  \n",
            " 7   Critical                               480 non-null    float64\n",
            " 8   Trending Perf                          14999 non-null  int64  \n",
            " 9   Talent_Level                           14999 non-null  int64  \n",
            " 10  Validated_Talent_Level                 14999 non-null  int64  \n",
            " 11  Percent_Remote                         14999 non-null  float64\n",
            " 12  EMP_Sat_OnPrem_1                       14871 non-null  float64\n",
            " 13  EMP_Sat_OnPrem_2                       14871 non-null  float64\n",
            " 14  EMP_Sat_OnPrem_3                       14871 non-null  float64\n",
            " 15  EMP_Sat_OnPrem_4                       14871 non-null  float64\n",
            " 16  EMP_Sat_OnPrem_5                       14871 non-null  float64\n",
            " 17  EMP_Sat_Remote_1                       14999 non-null  int64  \n",
            " 18  EMP_Sat_Remote_2                       14999 non-null  int64  \n",
            " 19  EMP_Sat_Remote_3                       14999 non-null  int64  \n",
            " 20  EMP_Sat_Remote_4                       14999 non-null  int64  \n",
            " 21  EMP_Sat_Remote_5                       14999 non-null  int64  \n",
            " 22  EMP_Engagement_1                       14999 non-null  int64  \n",
            " 23  EMP_Engagement_2                       14999 non-null  int64  \n",
            " 24  EMP_Engagement_3                       14999 non-null  int64  \n",
            " 25  EMP_Engagement_4                       14999 non-null  int64  \n",
            " 26  EMP_Engagement_5                       14999 non-null  int64  \n",
            " 27  last_evaluation                        14999 non-null  float64\n",
            " 28  number_project                         14999 non-null  int64  \n",
            " 29  average_montly_hours                   14999 non-null  int64  \n",
            " 30  time_spend_company                     14999 non-null  int64  \n",
            " 31  Work_accident                          14999 non-null  int64  \n",
            " 32  left_Company                           14999 non-null  int64  \n",
            " 33  CSR Factor                             1713 non-null   float64\n",
            " 34  promotion_last_5years                  14999 non-null  int64  \n",
            " 35  sales                                  14999 non-null  object \n",
            " 36  salary                                 14999 non-null  object \n",
            " 37  Gender                                 14999 non-null  object \n",
            " 38  LinkedIn_Hits                          14999 non-null  int64  \n",
            " 39  Emp_Work_Status2                       14999 non-null  int64  \n",
            " 40  Emp_Work_Status_3                      14999 non-null  int64  \n",
            " 41  Emp_Work_Status_4                      14999 non-null  int64  \n",
            " 42  Emp_Work_Status_5                      14999 non-null  int64  \n",
            " 43  Emp_Identity                           14999 non-null  int64  \n",
            " 44  Emp_Role                               14999 non-null  int64  \n",
            " 45  Emp_Position                           14999 non-null  int64  \n",
            " 46  Emp_Title                              14999 non-null  int64  \n",
            " 47  Women_Leave                            7596 non-null   float64\n",
            " 48  Men_Leave                              4865 non-null   float64\n",
            " 49  Emp_Competitive_1                      14999 non-null  int64  \n",
            " 50  Emp_Competitive_2                      14999 non-null  int64  \n",
            " 51  Emp_Competitive_3                      14999 non-null  int64  \n",
            " 52  Emp_Competitive_4                      14999 non-null  int64  \n",
            " 53  Emp_Competitive_5                      14999 non-null  int64  \n",
            " 54  Emp_Collaborative_1                    14999 non-null  int64  \n",
            " 55  Emp_Collaborative_2                    14999 non-null  int64  \n",
            " 56  Emp_Collaborative_3                    14999 non-null  int64  \n",
            " 57  Emp_Collaborative_4                    14999 non-null  int64  \n",
            " 58  Emp_Collaborative_5                    14999 non-null  int64  \n",
            " 59  Sensor_StepCount                       14999 non-null  int64  \n",
            " 60  Sensor_Heartbeat(Average/Min)          14999 non-null  int64  \n",
            " 61  Sensor_Proximity(1-highest/10-lowest)  14999 non-null  int64  \n",
            "dtypes: float64(12), int64(43), object(7)\n",
            "memory usage: 7.1+ MB\n"
          ],
          "name": "stdout"
        }
      ]
    },
    {
      "cell_type": "markdown",
      "metadata": {
        "id": "CDN05bWf8hVh"
      },
      "source": [
        "Podemos notar acima que há 14999 registros e 62 colunas. Também há várias atributos com valores faltantes que serão analisados posteriormente."
      ]
    },
    {
      "cell_type": "markdown",
      "metadata": {
        "id": "9Q6QNUpMMv5D"
      },
      "source": [
        "# Exercícios"
      ]
    },
    {
      "cell_type": "markdown",
      "metadata": {
        "id": "_w31JoW1K7WO"
      },
      "source": [
        "Exercício 1.1\n",
        "\n",
        "a. unidade de pesquisa: Se o empregado continua ou não na empresa\n",
        "\n",
        "b. população: Funcionários de uma empresa\n",
        "\n",
        "c. instrumento de coleta de dados: Sistema de cadastro da empresa\n",
        "\n",
        "d. unidade respondente: Empresas na área de Recursos Humanos\n",
        "\n",
        "e. possível sistema de referência: \n",
        "\n",
        "f. unidade amostral mais provável: Apenas funcionários com salário \"baixo\"\n",
        "\n",
        "g. unidades amostrais alternativas: Funcionários do departamento de Finanças e  os que não foram promovidos nos últimos 5 anos"
      ]
    },
    {
      "cell_type": "markdown",
      "metadata": {
        "id": "apgu3wVGOcav"
      },
      "source": [
        "Exercício 1.5 \n",
        "\n",
        "a. Árvores em uma floresta: Nesse caso, iria fazer a amostra aleatória sistemática pois ela é de rápida e fácil execução e dessa maneira poderíamos selecionar as diversas árvores e separa-las por características específicas e depois de ter feito isso, e depois escolher um número igual de árvores para cada grupo. Sendo assim, tentando ao máximo ter uma amostra que represente a população. Poderíamos fazer um estudo que prevê se uma árvore será desmatada ou não, baseado em suas características, tempo de vida e localidade em que se encontra.\n",
        "\n",
        "b. Crianças abaixo de 5 anos e que tiveram sarampo:\n",
        "Como a população em questão já é bem ninchada (específica), a amostragem aleatória simples é o mais indicado pela sua facilidade de aplicação. A variável a ser estudada poderia ser as sequelas que cada criança teve e a gravidade que a doença causou, para isso, iriamos ter que saber quanto tempo ele esteve no hospital, quanto tempo esteve com a doença, e características físicas e mentais de cada criança\n",
        "\n",
        "c. Operários em indústrias têxteis: Amostragem estratificada é o melhor tipo de forma de obter uma amostra para esta população, pois separamos a população em grupos e subgrupos e após isso, podemos usar amostragem aleatória simples para cada grupo especificado. Através de entrevistas, poderíamos estudar a satisfação dos funcionários em relação ao trabalho e concluir cada avaliação dos empregados entre três classes (bom, médio ou ruim). Para obter essas informações, os questionários teriam informações pessoais de cada operário (idade, raça, gênero) e informações relacionadas ao trabalho como quanto tempo trabalha nessa indústria, se tem parentes trabalhando no mesmo setor e etc.\n",
        "\n"
      ]
    },
    {
      "cell_type": "markdown",
      "metadata": {
        "id": "AsSNRudcDF-Y"
      },
      "source": [
        "# Amostragem Simples"
      ]
    },
    {
      "cell_type": "markdown",
      "metadata": {
        "id": "jCfCT0GWDIdi"
      },
      "source": [
        "Simplesmente selecionar alguns valores do banco de dados de maneira aleatória. Nesse caso irei selecionar 40% dos meus registros."
      ]
    },
    {
      "cell_type": "code",
      "metadata": {
        "id": "pB4o5kCeDVcj",
        "outputId": "51ce5eb2-c69e-4094-9c34-817c538713aa",
        "colab": {
          "base_uri": "https://localhost:8080/",
          "height": 287
        }
      },
      "source": [
        "amostra = dados.sample(frac=0.40)\n",
        "amostra.head()"
      ],
      "execution_count": 4,
      "outputs": [
        {
          "output_type": "execute_result",
          "data": {
            "text/html": [
              "<div>\n",
              "<style scoped>\n",
              "    .dataframe tbody tr th:only-of-type {\n",
              "        vertical-align: middle;\n",
              "    }\n",
              "\n",
              "    .dataframe tbody tr th {\n",
              "        vertical-align: top;\n",
              "    }\n",
              "\n",
              "    .dataframe thead th {\n",
              "        text-align: right;\n",
              "    }\n",
              "</style>\n",
              "<table border=\"1\" class=\"dataframe\">\n",
              "  <thead>\n",
              "    <tr style=\"text-align: right;\">\n",
              "      <th></th>\n",
              "      <th>ID</th>\n",
              "      <th>Name</th>\n",
              "      <th>Department</th>\n",
              "      <th>GEO</th>\n",
              "      <th>Role</th>\n",
              "      <th>Rising_Star</th>\n",
              "      <th>Will_Relocate</th>\n",
              "      <th>Critical</th>\n",
              "      <th>Trending Perf</th>\n",
              "      <th>Talent_Level</th>\n",
              "      <th>Validated_Talent_Level</th>\n",
              "      <th>Percent_Remote</th>\n",
              "      <th>EMP_Sat_OnPrem_1</th>\n",
              "      <th>EMP_Sat_OnPrem_2</th>\n",
              "      <th>EMP_Sat_OnPrem_3</th>\n",
              "      <th>EMP_Sat_OnPrem_4</th>\n",
              "      <th>EMP_Sat_OnPrem_5</th>\n",
              "      <th>EMP_Sat_Remote_1</th>\n",
              "      <th>EMP_Sat_Remote_2</th>\n",
              "      <th>EMP_Sat_Remote_3</th>\n",
              "      <th>EMP_Sat_Remote_4</th>\n",
              "      <th>EMP_Sat_Remote_5</th>\n",
              "      <th>EMP_Engagement_1</th>\n",
              "      <th>EMP_Engagement_2</th>\n",
              "      <th>EMP_Engagement_3</th>\n",
              "      <th>EMP_Engagement_4</th>\n",
              "      <th>EMP_Engagement_5</th>\n",
              "      <th>last_evaluation</th>\n",
              "      <th>number_project</th>\n",
              "      <th>average_montly_hours</th>\n",
              "      <th>time_spend_company</th>\n",
              "      <th>Work_accident</th>\n",
              "      <th>left_Company</th>\n",
              "      <th>CSR Factor</th>\n",
              "      <th>promotion_last_5years</th>\n",
              "      <th>sales</th>\n",
              "      <th>salary</th>\n",
              "      <th>Gender</th>\n",
              "      <th>LinkedIn_Hits</th>\n",
              "      <th>Emp_Work_Status2</th>\n",
              "      <th>Emp_Work_Status_3</th>\n",
              "      <th>Emp_Work_Status_4</th>\n",
              "      <th>Emp_Work_Status_5</th>\n",
              "      <th>Emp_Identity</th>\n",
              "      <th>Emp_Role</th>\n",
              "      <th>Emp_Position</th>\n",
              "      <th>Emp_Title</th>\n",
              "      <th>Women_Leave</th>\n",
              "      <th>Men_Leave</th>\n",
              "      <th>Emp_Competitive_1</th>\n",
              "      <th>Emp_Competitive_2</th>\n",
              "      <th>Emp_Competitive_3</th>\n",
              "      <th>Emp_Competitive_4</th>\n",
              "      <th>Emp_Competitive_5</th>\n",
              "      <th>Emp_Collaborative_1</th>\n",
              "      <th>Emp_Collaborative_2</th>\n",
              "      <th>Emp_Collaborative_3</th>\n",
              "      <th>Emp_Collaborative_4</th>\n",
              "      <th>Emp_Collaborative_5</th>\n",
              "      <th>Sensor_StepCount</th>\n",
              "      <th>Sensor_Heartbeat(Average/Min)</th>\n",
              "      <th>Sensor_Proximity(1-highest/10-lowest)</th>\n",
              "    </tr>\n",
              "  </thead>\n",
              "  <tbody>\n",
              "    <tr>\n",
              "      <th>7985</th>\n",
              "      <td>7986</td>\n",
              "      <td>STOLTE</td>\n",
              "      <td>Warehouse</td>\n",
              "      <td>France</td>\n",
              "      <td>Manager</td>\n",
              "      <td>NaN</td>\n",
              "      <td>1</td>\n",
              "      <td>NaN</td>\n",
              "      <td>3</td>\n",
              "      <td>6</td>\n",
              "      <td>6</td>\n",
              "      <td>0.8</td>\n",
              "      <td>3.0</td>\n",
              "      <td>3.0</td>\n",
              "      <td>4.0</td>\n",
              "      <td>3.0</td>\n",
              "      <td>4.0</td>\n",
              "      <td>3</td>\n",
              "      <td>5</td>\n",
              "      <td>4</td>\n",
              "      <td>4</td>\n",
              "      <td>5</td>\n",
              "      <td>5</td>\n",
              "      <td>5</td>\n",
              "      <td>4</td>\n",
              "      <td>4</td>\n",
              "      <td>3</td>\n",
              "      <td>0.74</td>\n",
              "      <td>6</td>\n",
              "      <td>106</td>\n",
              "      <td>5</td>\n",
              "      <td>0</td>\n",
              "      <td>0</td>\n",
              "      <td>NaN</td>\n",
              "      <td>0</td>\n",
              "      <td>technical</td>\n",
              "      <td>low</td>\n",
              "      <td>M</td>\n",
              "      <td>9</td>\n",
              "      <td>2</td>\n",
              "      <td>4</td>\n",
              "      <td>3</td>\n",
              "      <td>5</td>\n",
              "      <td>2</td>\n",
              "      <td>2</td>\n",
              "      <td>2</td>\n",
              "      <td>2</td>\n",
              "      <td>NaN</td>\n",
              "      <td>1.0</td>\n",
              "      <td>2</td>\n",
              "      <td>4</td>\n",
              "      <td>2</td>\n",
              "      <td>5</td>\n",
              "      <td>3</td>\n",
              "      <td>4</td>\n",
              "      <td>2</td>\n",
              "      <td>1</td>\n",
              "      <td>5</td>\n",
              "      <td>1</td>\n",
              "      <td>4038</td>\n",
              "      <td>80</td>\n",
              "      <td>7</td>\n",
              "    </tr>\n",
              "    <tr>\n",
              "      <th>151</th>\n",
              "      <td>152</td>\n",
              "      <td>WOODHAM</td>\n",
              "      <td>Sales</td>\n",
              "      <td>Australia</td>\n",
              "      <td>Senior Manager</td>\n",
              "      <td>NaN</td>\n",
              "      <td>0</td>\n",
              "      <td>1.0</td>\n",
              "      <td>3</td>\n",
              "      <td>6</td>\n",
              "      <td>6</td>\n",
              "      <td>0.4</td>\n",
              "      <td>3.0</td>\n",
              "      <td>3.0</td>\n",
              "      <td>4.0</td>\n",
              "      <td>3.0</td>\n",
              "      <td>5.0</td>\n",
              "      <td>2</td>\n",
              "      <td>3</td>\n",
              "      <td>2</td>\n",
              "      <td>3</td>\n",
              "      <td>2</td>\n",
              "      <td>5</td>\n",
              "      <td>5</td>\n",
              "      <td>4</td>\n",
              "      <td>4</td>\n",
              "      <td>3</td>\n",
              "      <td>0.39</td>\n",
              "      <td>3</td>\n",
              "      <td>175</td>\n",
              "      <td>3</td>\n",
              "      <td>0</td>\n",
              "      <td>0</td>\n",
              "      <td>NaN</td>\n",
              "      <td>0</td>\n",
              "      <td>sales</td>\n",
              "      <td>medium</td>\n",
              "      <td>M</td>\n",
              "      <td>39</td>\n",
              "      <td>2</td>\n",
              "      <td>5</td>\n",
              "      <td>3</td>\n",
              "      <td>2</td>\n",
              "      <td>1</td>\n",
              "      <td>2</td>\n",
              "      <td>2</td>\n",
              "      <td>2</td>\n",
              "      <td>NaN</td>\n",
              "      <td>1.0</td>\n",
              "      <td>1</td>\n",
              "      <td>5</td>\n",
              "      <td>1</td>\n",
              "      <td>5</td>\n",
              "      <td>5</td>\n",
              "      <td>4</td>\n",
              "      <td>1</td>\n",
              "      <td>4</td>\n",
              "      <td>1</td>\n",
              "      <td>3</td>\n",
              "      <td>1706</td>\n",
              "      <td>68</td>\n",
              "      <td>10</td>\n",
              "    </tr>\n",
              "    <tr>\n",
              "      <th>8129</th>\n",
              "      <td>8130</td>\n",
              "      <td>DELISLE</td>\n",
              "      <td>Warehouse</td>\n",
              "      <td>France</td>\n",
              "      <td>Level 2-4</td>\n",
              "      <td>NaN</td>\n",
              "      <td>1</td>\n",
              "      <td>NaN</td>\n",
              "      <td>3</td>\n",
              "      <td>6</td>\n",
              "      <td>6</td>\n",
              "      <td>0.8</td>\n",
              "      <td>3.0</td>\n",
              "      <td>3.0</td>\n",
              "      <td>4.0</td>\n",
              "      <td>3.0</td>\n",
              "      <td>4.0</td>\n",
              "      <td>3</td>\n",
              "      <td>5</td>\n",
              "      <td>4</td>\n",
              "      <td>4</td>\n",
              "      <td>5</td>\n",
              "      <td>5</td>\n",
              "      <td>5</td>\n",
              "      <td>4</td>\n",
              "      <td>4</td>\n",
              "      <td>3</td>\n",
              "      <td>0.75</td>\n",
              "      <td>4</td>\n",
              "      <td>192</td>\n",
              "      <td>2</td>\n",
              "      <td>0</td>\n",
              "      <td>0</td>\n",
              "      <td>NaN</td>\n",
              "      <td>0</td>\n",
              "      <td>support</td>\n",
              "      <td>low</td>\n",
              "      <td>M</td>\n",
              "      <td>7</td>\n",
              "      <td>4</td>\n",
              "      <td>1</td>\n",
              "      <td>1</td>\n",
              "      <td>2</td>\n",
              "      <td>3</td>\n",
              "      <td>2</td>\n",
              "      <td>3</td>\n",
              "      <td>3</td>\n",
              "      <td>NaN</td>\n",
              "      <td>NaN</td>\n",
              "      <td>2</td>\n",
              "      <td>5</td>\n",
              "      <td>2</td>\n",
              "      <td>1</td>\n",
              "      <td>2</td>\n",
              "      <td>3</td>\n",
              "      <td>5</td>\n",
              "      <td>2</td>\n",
              "      <td>2</td>\n",
              "      <td>2</td>\n",
              "      <td>4151</td>\n",
              "      <td>73</td>\n",
              "      <td>5</td>\n",
              "    </tr>\n",
              "    <tr>\n",
              "      <th>8248</th>\n",
              "      <td>8249</td>\n",
              "      <td>TABB</td>\n",
              "      <td>IT</td>\n",
              "      <td>Colombia</td>\n",
              "      <td>Manager</td>\n",
              "      <td>NaN</td>\n",
              "      <td>1</td>\n",
              "      <td>NaN</td>\n",
              "      <td>3</td>\n",
              "      <td>6</td>\n",
              "      <td>6</td>\n",
              "      <td>0.8</td>\n",
              "      <td>3.0</td>\n",
              "      <td>3.0</td>\n",
              "      <td>4.0</td>\n",
              "      <td>3.0</td>\n",
              "      <td>4.0</td>\n",
              "      <td>3</td>\n",
              "      <td>5</td>\n",
              "      <td>4</td>\n",
              "      <td>4</td>\n",
              "      <td>5</td>\n",
              "      <td>5</td>\n",
              "      <td>5</td>\n",
              "      <td>4</td>\n",
              "      <td>4</td>\n",
              "      <td>3</td>\n",
              "      <td>0.75</td>\n",
              "      <td>4</td>\n",
              "      <td>183</td>\n",
              "      <td>4</td>\n",
              "      <td>1</td>\n",
              "      <td>0</td>\n",
              "      <td>NaN</td>\n",
              "      <td>0</td>\n",
              "      <td>sales</td>\n",
              "      <td>low</td>\n",
              "      <td>M</td>\n",
              "      <td>9</td>\n",
              "      <td>1</td>\n",
              "      <td>1</td>\n",
              "      <td>2</td>\n",
              "      <td>5</td>\n",
              "      <td>2</td>\n",
              "      <td>4</td>\n",
              "      <td>2</td>\n",
              "      <td>2</td>\n",
              "      <td>NaN</td>\n",
              "      <td>NaN</td>\n",
              "      <td>2</td>\n",
              "      <td>2</td>\n",
              "      <td>2</td>\n",
              "      <td>2</td>\n",
              "      <td>2</td>\n",
              "      <td>2</td>\n",
              "      <td>2</td>\n",
              "      <td>3</td>\n",
              "      <td>2</td>\n",
              "      <td>4</td>\n",
              "      <td>5157</td>\n",
              "      <td>72</td>\n",
              "      <td>2</td>\n",
              "    </tr>\n",
              "    <tr>\n",
              "      <th>8908</th>\n",
              "      <td>8909</td>\n",
              "      <td>LAMPKIN</td>\n",
              "      <td>IT</td>\n",
              "      <td>Australia</td>\n",
              "      <td>Senior Director</td>\n",
              "      <td>NaN</td>\n",
              "      <td>1</td>\n",
              "      <td>NaN</td>\n",
              "      <td>3</td>\n",
              "      <td>6</td>\n",
              "      <td>6</td>\n",
              "      <td>0.8</td>\n",
              "      <td>3.0</td>\n",
              "      <td>3.0</td>\n",
              "      <td>4.0</td>\n",
              "      <td>3.0</td>\n",
              "      <td>4.0</td>\n",
              "      <td>3</td>\n",
              "      <td>5</td>\n",
              "      <td>4</td>\n",
              "      <td>4</td>\n",
              "      <td>5</td>\n",
              "      <td>5</td>\n",
              "      <td>5</td>\n",
              "      <td>4</td>\n",
              "      <td>4</td>\n",
              "      <td>3</td>\n",
              "      <td>0.78</td>\n",
              "      <td>3</td>\n",
              "      <td>194</td>\n",
              "      <td>3</td>\n",
              "      <td>0</td>\n",
              "      <td>0</td>\n",
              "      <td>NaN</td>\n",
              "      <td>0</td>\n",
              "      <td>technical</td>\n",
              "      <td>medium</td>\n",
              "      <td>F</td>\n",
              "      <td>3</td>\n",
              "      <td>5</td>\n",
              "      <td>2</td>\n",
              "      <td>1</td>\n",
              "      <td>1</td>\n",
              "      <td>2</td>\n",
              "      <td>3</td>\n",
              "      <td>4</td>\n",
              "      <td>4</td>\n",
              "      <td>1.0</td>\n",
              "      <td>NaN</td>\n",
              "      <td>4</td>\n",
              "      <td>3</td>\n",
              "      <td>4</td>\n",
              "      <td>5</td>\n",
              "      <td>4</td>\n",
              "      <td>2</td>\n",
              "      <td>1</td>\n",
              "      <td>5</td>\n",
              "      <td>2</td>\n",
              "      <td>5</td>\n",
              "      <td>4435</td>\n",
              "      <td>71</td>\n",
              "      <td>7</td>\n",
              "    </tr>\n",
              "  </tbody>\n",
              "</table>\n",
              "</div>"
            ],
            "text/plain": [
              "        ID  ... Sensor_Proximity(1-highest/10-lowest)\n",
              "7985  7986  ...                                     7\n",
              "151    152  ...                                    10\n",
              "8129  8130  ...                                     5\n",
              "8248  8249  ...                                     2\n",
              "8908  8909  ...                                     7\n",
              "\n",
              "[5 rows x 62 columns]"
            ]
          },
          "metadata": {
            "tags": []
          },
          "execution_count": 4
        }
      ]
    },
    {
      "cell_type": "code",
      "metadata": {
        "id": "OIc6uD0DDe0t",
        "outputId": "4e8a057c-8228-41fe-a3ec-db648bc451da",
        "colab": {
          "base_uri": "https://localhost:8080/",
          "height": 1000
        }
      },
      "source": [
        "amostra.info()"
      ],
      "execution_count": 5,
      "outputs": [
        {
          "output_type": "stream",
          "text": [
            "<class 'pandas.core.frame.DataFrame'>\n",
            "Int64Index: 6000 entries, 7985 to 14730\n",
            "Data columns (total 62 columns):\n",
            " #   Column                                 Non-Null Count  Dtype  \n",
            "---  ------                                 --------------  -----  \n",
            " 0   ID                                     6000 non-null   int64  \n",
            " 1   Name                                   5998 non-null   object \n",
            " 2   Department                             6000 non-null   object \n",
            " 3   GEO                                    6000 non-null   object \n",
            " 4   Role                                   6000 non-null   object \n",
            " 5   Rising_Star                            7 non-null      float64\n",
            " 6   Will_Relocate                          6000 non-null   int64  \n",
            " 7   Critical                               193 non-null    float64\n",
            " 8   Trending Perf                          6000 non-null   int64  \n",
            " 9   Talent_Level                           6000 non-null   int64  \n",
            " 10  Validated_Talent_Level                 6000 non-null   int64  \n",
            " 11  Percent_Remote                         6000 non-null   float64\n",
            " 12  EMP_Sat_OnPrem_1                       5955 non-null   float64\n",
            " 13  EMP_Sat_OnPrem_2                       5955 non-null   float64\n",
            " 14  EMP_Sat_OnPrem_3                       5955 non-null   float64\n",
            " 15  EMP_Sat_OnPrem_4                       5955 non-null   float64\n",
            " 16  EMP_Sat_OnPrem_5                       5955 non-null   float64\n",
            " 17  EMP_Sat_Remote_1                       6000 non-null   int64  \n",
            " 18  EMP_Sat_Remote_2                       6000 non-null   int64  \n",
            " 19  EMP_Sat_Remote_3                       6000 non-null   int64  \n",
            " 20  EMP_Sat_Remote_4                       6000 non-null   int64  \n",
            " 21  EMP_Sat_Remote_5                       6000 non-null   int64  \n",
            " 22  EMP_Engagement_1                       6000 non-null   int64  \n",
            " 23  EMP_Engagement_2                       6000 non-null   int64  \n",
            " 24  EMP_Engagement_3                       6000 non-null   int64  \n",
            " 25  EMP_Engagement_4                       6000 non-null   int64  \n",
            " 26  EMP_Engagement_5                       6000 non-null   int64  \n",
            " 27  last_evaluation                        6000 non-null   float64\n",
            " 28  number_project                         6000 non-null   int64  \n",
            " 29  average_montly_hours                   6000 non-null   int64  \n",
            " 30  time_spend_company                     6000 non-null   int64  \n",
            " 31  Work_accident                          6000 non-null   int64  \n",
            " 32  left_Company                           6000 non-null   int64  \n",
            " 33  CSR Factor                             677 non-null    float64\n",
            " 34  promotion_last_5years                  6000 non-null   int64  \n",
            " 35  sales                                  6000 non-null   object \n",
            " 36  salary                                 6000 non-null   object \n",
            " 37  Gender                                 6000 non-null   object \n",
            " 38  LinkedIn_Hits                          6000 non-null   int64  \n",
            " 39  Emp_Work_Status2                       6000 non-null   int64  \n",
            " 40  Emp_Work_Status_3                      6000 non-null   int64  \n",
            " 41  Emp_Work_Status_4                      6000 non-null   int64  \n",
            " 42  Emp_Work_Status_5                      6000 non-null   int64  \n",
            " 43  Emp_Identity                           6000 non-null   int64  \n",
            " 44  Emp_Role                               6000 non-null   int64  \n",
            " 45  Emp_Position                           6000 non-null   int64  \n",
            " 46  Emp_Title                              6000 non-null   int64  \n",
            " 47  Women_Leave                            3038 non-null   float64\n",
            " 48  Men_Leave                              1969 non-null   float64\n",
            " 49  Emp_Competitive_1                      6000 non-null   int64  \n",
            " 50  Emp_Competitive_2                      6000 non-null   int64  \n",
            " 51  Emp_Competitive_3                      6000 non-null   int64  \n",
            " 52  Emp_Competitive_4                      6000 non-null   int64  \n",
            " 53  Emp_Competitive_5                      6000 non-null   int64  \n",
            " 54  Emp_Collaborative_1                    6000 non-null   int64  \n",
            " 55  Emp_Collaborative_2                    6000 non-null   int64  \n",
            " 56  Emp_Collaborative_3                    6000 non-null   int64  \n",
            " 57  Emp_Collaborative_4                    6000 non-null   int64  \n",
            " 58  Emp_Collaborative_5                    6000 non-null   int64  \n",
            " 59  Sensor_StepCount                       6000 non-null   int64  \n",
            " 60  Sensor_Heartbeat(Average/Min)          6000 non-null   int64  \n",
            " 61  Sensor_Proximity(1-highest/10-lowest)  6000 non-null   int64  \n",
            "dtypes: float64(12), int64(43), object(7)\n",
            "memory usage: 2.9+ MB\n"
          ],
          "name": "stdout"
        }
      ]
    },
    {
      "cell_type": "markdown",
      "metadata": {
        "id": "JY5ejhc0Mz06"
      },
      "source": [
        "Obtendo a amostra, temos 6000 registros, selecionando 40% da população de maneira aleatória. "
      ]
    },
    {
      "cell_type": "markdown",
      "metadata": {
        "id": "7BxutT059TW7"
      },
      "source": [
        "# Amostragem Sistemática"
      ]
    },
    {
      "cell_type": "markdown",
      "metadata": {
        "id": "sep_sgbh9WEU"
      },
      "source": [
        "Os elementos da população serão colocados em uma lista e cada enésimo elemento da lista é escolhido (sistematicamente) e irá compor a amostra."
      ]
    },
    {
      "cell_type": "code",
      "metadata": {
        "id": "GpzKpo1h8fN-",
        "outputId": "ab2e6f82-8d98-450c-a79d-1390602d0899",
        "colab": {
          "base_uri": "https://localhost:8080/",
          "height": 35
        }
      },
      "source": [
        "seed = np.random.choice(10,1) #selecionando número aleatório de 1 a 10\n",
        "seed"
      ],
      "execution_count": 6,
      "outputs": [
        {
          "output_type": "execute_result",
          "data": {
            "text/plain": [
              "array([8])"
            ]
          },
          "metadata": {
            "tags": []
          },
          "execution_count": 6
        }
      ]
    },
    {
      "cell_type": "code",
      "metadata": {
        "id": "lYdjGYjW9li6",
        "outputId": "1528b6dc-d238-43b0-8afe-d1110f190b50",
        "colab": {
          "base_uri": "https://localhost:8080/",
          "height": 35
        }
      },
      "source": [
        "indices = np.arange(0, len(dados), seed)\n",
        "indices"
      ],
      "execution_count": 7,
      "outputs": [
        {
          "output_type": "execute_result",
          "data": {
            "text/plain": [
              "array([    0,     8,    16, ..., 14976, 14984, 14992])"
            ]
          },
          "metadata": {
            "tags": []
          },
          "execution_count": 7
        }
      ]
    },
    {
      "cell_type": "markdown",
      "metadata": {
        "id": "m5gKWi6A951t"
      },
      "source": [
        "No primeiro parâmetro do código acima eu seleciono em qual número o array deve se iniciar, no segundo em que número ele deve parar e por último, o intervalo com que os números devem ser escolhidos.\n",
        "\n",
        "\n",
        "**Obs1**: o método 'np.arange' retorna um array (lista) de valores.\n",
        "\n",
        "**Obs2**: len(dados) retorna a quantidade total de registros do DataFrame **dados**."
      ]
    },
    {
      "cell_type": "code",
      "metadata": {
        "id": "a1DJ6R1u9mA1"
      },
      "source": [
        "amostra = dados.loc[indices]"
      ],
      "execution_count": 8,
      "outputs": []
    },
    {
      "cell_type": "markdown",
      "metadata": {
        "id": "Jm6MfqJC_Lop"
      },
      "source": [
        "No código acima eu localizei, dentro dos meus dados, somente os indíces que correspondem ao meu array 'indices', explicado anteriormente.\n",
        "\n",
        "**OBS**: Índice de um DataFrame é o primeiro valor do registro da esquerda para direita, que não tem nenhuma label em cima."
      ]
    },
    {
      "cell_type": "code",
      "metadata": {
        "id": "87ZgocAp91EK",
        "outputId": "dcf0e359-0a2e-4298-b9fe-6744eb137c2e",
        "colab": {
          "base_uri": "https://localhost:8080/",
          "height": 253
        }
      },
      "source": [
        "amostra.head()"
      ],
      "execution_count": 9,
      "outputs": [
        {
          "output_type": "execute_result",
          "data": {
            "text/html": [
              "<div>\n",
              "<style scoped>\n",
              "    .dataframe tbody tr th:only-of-type {\n",
              "        vertical-align: middle;\n",
              "    }\n",
              "\n",
              "    .dataframe tbody tr th {\n",
              "        vertical-align: top;\n",
              "    }\n",
              "\n",
              "    .dataframe thead th {\n",
              "        text-align: right;\n",
              "    }\n",
              "</style>\n",
              "<table border=\"1\" class=\"dataframe\">\n",
              "  <thead>\n",
              "    <tr style=\"text-align: right;\">\n",
              "      <th></th>\n",
              "      <th>ID</th>\n",
              "      <th>Name</th>\n",
              "      <th>Department</th>\n",
              "      <th>GEO</th>\n",
              "      <th>Role</th>\n",
              "      <th>Rising_Star</th>\n",
              "      <th>Will_Relocate</th>\n",
              "      <th>Critical</th>\n",
              "      <th>Trending Perf</th>\n",
              "      <th>Talent_Level</th>\n",
              "      <th>Validated_Talent_Level</th>\n",
              "      <th>Percent_Remote</th>\n",
              "      <th>EMP_Sat_OnPrem_1</th>\n",
              "      <th>EMP_Sat_OnPrem_2</th>\n",
              "      <th>EMP_Sat_OnPrem_3</th>\n",
              "      <th>EMP_Sat_OnPrem_4</th>\n",
              "      <th>EMP_Sat_OnPrem_5</th>\n",
              "      <th>EMP_Sat_Remote_1</th>\n",
              "      <th>EMP_Sat_Remote_2</th>\n",
              "      <th>EMP_Sat_Remote_3</th>\n",
              "      <th>EMP_Sat_Remote_4</th>\n",
              "      <th>EMP_Sat_Remote_5</th>\n",
              "      <th>EMP_Engagement_1</th>\n",
              "      <th>EMP_Engagement_2</th>\n",
              "      <th>EMP_Engagement_3</th>\n",
              "      <th>EMP_Engagement_4</th>\n",
              "      <th>EMP_Engagement_5</th>\n",
              "      <th>last_evaluation</th>\n",
              "      <th>number_project</th>\n",
              "      <th>average_montly_hours</th>\n",
              "      <th>time_spend_company</th>\n",
              "      <th>Work_accident</th>\n",
              "      <th>left_Company</th>\n",
              "      <th>CSR Factor</th>\n",
              "      <th>promotion_last_5years</th>\n",
              "      <th>sales</th>\n",
              "      <th>salary</th>\n",
              "      <th>Gender</th>\n",
              "      <th>LinkedIn_Hits</th>\n",
              "      <th>Emp_Work_Status2</th>\n",
              "      <th>Emp_Work_Status_3</th>\n",
              "      <th>Emp_Work_Status_4</th>\n",
              "      <th>Emp_Work_Status_5</th>\n",
              "      <th>Emp_Identity</th>\n",
              "      <th>Emp_Role</th>\n",
              "      <th>Emp_Position</th>\n",
              "      <th>Emp_Title</th>\n",
              "      <th>Women_Leave</th>\n",
              "      <th>Men_Leave</th>\n",
              "      <th>Emp_Competitive_1</th>\n",
              "      <th>Emp_Competitive_2</th>\n",
              "      <th>Emp_Competitive_3</th>\n",
              "      <th>Emp_Competitive_4</th>\n",
              "      <th>Emp_Competitive_5</th>\n",
              "      <th>Emp_Collaborative_1</th>\n",
              "      <th>Emp_Collaborative_2</th>\n",
              "      <th>Emp_Collaborative_3</th>\n",
              "      <th>Emp_Collaborative_4</th>\n",
              "      <th>Emp_Collaborative_5</th>\n",
              "      <th>Sensor_StepCount</th>\n",
              "      <th>Sensor_Heartbeat(Average/Min)</th>\n",
              "      <th>Sensor_Proximity(1-highest/10-lowest)</th>\n",
              "    </tr>\n",
              "  </thead>\n",
              "  <tbody>\n",
              "    <tr>\n",
              "      <th>0</th>\n",
              "      <td>1</td>\n",
              "      <td>BRADDY</td>\n",
              "      <td>Operations</td>\n",
              "      <td>US</td>\n",
              "      <td>VP</td>\n",
              "      <td>NaN</td>\n",
              "      <td>0</td>\n",
              "      <td>1.0</td>\n",
              "      <td>3</td>\n",
              "      <td>6</td>\n",
              "      <td>6</td>\n",
              "      <td>0.4</td>\n",
              "      <td>3.0</td>\n",
              "      <td>3.0</td>\n",
              "      <td>4.0</td>\n",
              "      <td>3.0</td>\n",
              "      <td>5.0</td>\n",
              "      <td>2</td>\n",
              "      <td>3</td>\n",
              "      <td>2</td>\n",
              "      <td>3</td>\n",
              "      <td>2</td>\n",
              "      <td>5</td>\n",
              "      <td>5</td>\n",
              "      <td>4</td>\n",
              "      <td>4</td>\n",
              "      <td>3</td>\n",
              "      <td>0.36</td>\n",
              "      <td>3</td>\n",
              "      <td>168</td>\n",
              "      <td>3</td>\n",
              "      <td>1</td>\n",
              "      <td>0</td>\n",
              "      <td>NaN</td>\n",
              "      <td>0</td>\n",
              "      <td>sales</td>\n",
              "      <td>low</td>\n",
              "      <td>M</td>\n",
              "      <td>5</td>\n",
              "      <td>4</td>\n",
              "      <td>3</td>\n",
              "      <td>1</td>\n",
              "      <td>1</td>\n",
              "      <td>1</td>\n",
              "      <td>1</td>\n",
              "      <td>2</td>\n",
              "      <td>1</td>\n",
              "      <td>NaN</td>\n",
              "      <td>1.0</td>\n",
              "      <td>2</td>\n",
              "      <td>4</td>\n",
              "      <td>2</td>\n",
              "      <td>2</td>\n",
              "      <td>2</td>\n",
              "      <td>2</td>\n",
              "      <td>2</td>\n",
              "      <td>2</td>\n",
              "      <td>1</td>\n",
              "      <td>5</td>\n",
              "      <td>1841</td>\n",
              "      <td>61</td>\n",
              "      <td>9</td>\n",
              "    </tr>\n",
              "    <tr>\n",
              "      <th>8</th>\n",
              "      <td>9</td>\n",
              "      <td>AUBREY</td>\n",
              "      <td>Finance</td>\n",
              "      <td>Japan</td>\n",
              "      <td>Director</td>\n",
              "      <td>NaN</td>\n",
              "      <td>0</td>\n",
              "      <td>NaN</td>\n",
              "      <td>3</td>\n",
              "      <td>6</td>\n",
              "      <td>6</td>\n",
              "      <td>0.4</td>\n",
              "      <td>3.0</td>\n",
              "      <td>3.0</td>\n",
              "      <td>4.0</td>\n",
              "      <td>3.0</td>\n",
              "      <td>5.0</td>\n",
              "      <td>2</td>\n",
              "      <td>3</td>\n",
              "      <td>2</td>\n",
              "      <td>3</td>\n",
              "      <td>2</td>\n",
              "      <td>5</td>\n",
              "      <td>5</td>\n",
              "      <td>4</td>\n",
              "      <td>4</td>\n",
              "      <td>3</td>\n",
              "      <td>0.36</td>\n",
              "      <td>3</td>\n",
              "      <td>114</td>\n",
              "      <td>3</td>\n",
              "      <td>0</td>\n",
              "      <td>0</td>\n",
              "      <td>NaN</td>\n",
              "      <td>0</td>\n",
              "      <td>technical</td>\n",
              "      <td>high</td>\n",
              "      <td>M</td>\n",
              "      <td>3</td>\n",
              "      <td>5</td>\n",
              "      <td>4</td>\n",
              "      <td>4</td>\n",
              "      <td>5</td>\n",
              "      <td>2</td>\n",
              "      <td>1</td>\n",
              "      <td>2</td>\n",
              "      <td>2</td>\n",
              "      <td>NaN</td>\n",
              "      <td>1.0</td>\n",
              "      <td>1</td>\n",
              "      <td>5</td>\n",
              "      <td>2</td>\n",
              "      <td>5</td>\n",
              "      <td>1</td>\n",
              "      <td>5</td>\n",
              "      <td>2</td>\n",
              "      <td>3</td>\n",
              "      <td>3</td>\n",
              "      <td>2</td>\n",
              "      <td>1974</td>\n",
              "      <td>64</td>\n",
              "      <td>7</td>\n",
              "    </tr>\n",
              "    <tr>\n",
              "      <th>16</th>\n",
              "      <td>17</td>\n",
              "      <td>WAGSTAFF</td>\n",
              "      <td>IT</td>\n",
              "      <td>US</td>\n",
              "      <td>Senior Manager</td>\n",
              "      <td>NaN</td>\n",
              "      <td>1</td>\n",
              "      <td>1.0</td>\n",
              "      <td>3</td>\n",
              "      <td>6</td>\n",
              "      <td>6</td>\n",
              "      <td>0.4</td>\n",
              "      <td>3.0</td>\n",
              "      <td>3.0</td>\n",
              "      <td>4.0</td>\n",
              "      <td>3.0</td>\n",
              "      <td>5.0</td>\n",
              "      <td>2</td>\n",
              "      <td>3</td>\n",
              "      <td>2</td>\n",
              "      <td>3</td>\n",
              "      <td>2</td>\n",
              "      <td>5</td>\n",
              "      <td>5</td>\n",
              "      <td>4</td>\n",
              "      <td>4</td>\n",
              "      <td>3</td>\n",
              "      <td>0.36</td>\n",
              "      <td>3</td>\n",
              "      <td>167</td>\n",
              "      <td>5</td>\n",
              "      <td>0</td>\n",
              "      <td>0</td>\n",
              "      <td>NaN</td>\n",
              "      <td>0</td>\n",
              "      <td>sales</td>\n",
              "      <td>low</td>\n",
              "      <td>F</td>\n",
              "      <td>33</td>\n",
              "      <td>3</td>\n",
              "      <td>4</td>\n",
              "      <td>1</td>\n",
              "      <td>2</td>\n",
              "      <td>2</td>\n",
              "      <td>2</td>\n",
              "      <td>2</td>\n",
              "      <td>1</td>\n",
              "      <td>1.0</td>\n",
              "      <td>NaN</td>\n",
              "      <td>1</td>\n",
              "      <td>5</td>\n",
              "      <td>2</td>\n",
              "      <td>3</td>\n",
              "      <td>5</td>\n",
              "      <td>5</td>\n",
              "      <td>2</td>\n",
              "      <td>4</td>\n",
              "      <td>1</td>\n",
              "      <td>2</td>\n",
              "      <td>1544</td>\n",
              "      <td>65</td>\n",
              "      <td>9</td>\n",
              "    </tr>\n",
              "    <tr>\n",
              "      <th>24</th>\n",
              "      <td>25</td>\n",
              "      <td>RIVES</td>\n",
              "      <td>Operations</td>\n",
              "      <td>Australia</td>\n",
              "      <td>Manager</td>\n",
              "      <td>NaN</td>\n",
              "      <td>1</td>\n",
              "      <td>NaN</td>\n",
              "      <td>3</td>\n",
              "      <td>6</td>\n",
              "      <td>6</td>\n",
              "      <td>0.4</td>\n",
              "      <td>3.0</td>\n",
              "      <td>3.0</td>\n",
              "      <td>4.0</td>\n",
              "      <td>3.0</td>\n",
              "      <td>5.0</td>\n",
              "      <td>2</td>\n",
              "      <td>3</td>\n",
              "      <td>2</td>\n",
              "      <td>3</td>\n",
              "      <td>2</td>\n",
              "      <td>5</td>\n",
              "      <td>5</td>\n",
              "      <td>4</td>\n",
              "      <td>4</td>\n",
              "      <td>3</td>\n",
              "      <td>0.37</td>\n",
              "      <td>2</td>\n",
              "      <td>159</td>\n",
              "      <td>6</td>\n",
              "      <td>0</td>\n",
              "      <td>0</td>\n",
              "      <td>NaN</td>\n",
              "      <td>0</td>\n",
              "      <td>RandD</td>\n",
              "      <td>low</td>\n",
              "      <td>F</td>\n",
              "      <td>17</td>\n",
              "      <td>3</td>\n",
              "      <td>1</td>\n",
              "      <td>1</td>\n",
              "      <td>2</td>\n",
              "      <td>1</td>\n",
              "      <td>2</td>\n",
              "      <td>2</td>\n",
              "      <td>1</td>\n",
              "      <td>0.0</td>\n",
              "      <td>NaN</td>\n",
              "      <td>1</td>\n",
              "      <td>4</td>\n",
              "      <td>1</td>\n",
              "      <td>1</td>\n",
              "      <td>2</td>\n",
              "      <td>2</td>\n",
              "      <td>1</td>\n",
              "      <td>3</td>\n",
              "      <td>4</td>\n",
              "      <td>4</td>\n",
              "      <td>1713</td>\n",
              "      <td>73</td>\n",
              "      <td>7</td>\n",
              "    </tr>\n",
              "    <tr>\n",
              "      <th>32</th>\n",
              "      <td>33</td>\n",
              "      <td>PELL</td>\n",
              "      <td>Finance</td>\n",
              "      <td>Japan</td>\n",
              "      <td>Manager</td>\n",
              "      <td>NaN</td>\n",
              "      <td>0</td>\n",
              "      <td>NaN</td>\n",
              "      <td>3</td>\n",
              "      <td>6</td>\n",
              "      <td>6</td>\n",
              "      <td>0.4</td>\n",
              "      <td>3.0</td>\n",
              "      <td>3.0</td>\n",
              "      <td>4.0</td>\n",
              "      <td>3.0</td>\n",
              "      <td>5.0</td>\n",
              "      <td>2</td>\n",
              "      <td>3</td>\n",
              "      <td>2</td>\n",
              "      <td>3</td>\n",
              "      <td>2</td>\n",
              "      <td>5</td>\n",
              "      <td>5</td>\n",
              "      <td>4</td>\n",
              "      <td>4</td>\n",
              "      <td>3</td>\n",
              "      <td>0.37</td>\n",
              "      <td>6</td>\n",
              "      <td>200</td>\n",
              "      <td>3</td>\n",
              "      <td>0</td>\n",
              "      <td>0</td>\n",
              "      <td>NaN</td>\n",
              "      <td>0</td>\n",
              "      <td>product_mng</td>\n",
              "      <td>low</td>\n",
              "      <td>F</td>\n",
              "      <td>25</td>\n",
              "      <td>4</td>\n",
              "      <td>1</td>\n",
              "      <td>4</td>\n",
              "      <td>1</td>\n",
              "      <td>1</td>\n",
              "      <td>1</td>\n",
              "      <td>1</td>\n",
              "      <td>1</td>\n",
              "      <td>1.0</td>\n",
              "      <td>NaN</td>\n",
              "      <td>1</td>\n",
              "      <td>5</td>\n",
              "      <td>2</td>\n",
              "      <td>1</td>\n",
              "      <td>3</td>\n",
              "      <td>1</td>\n",
              "      <td>2</td>\n",
              "      <td>1</td>\n",
              "      <td>2</td>\n",
              "      <td>3</td>\n",
              "      <td>2553</td>\n",
              "      <td>85</td>\n",
              "      <td>9</td>\n",
              "    </tr>\n",
              "  </tbody>\n",
              "</table>\n",
              "</div>"
            ],
            "text/plain": [
              "    ID  ... Sensor_Proximity(1-highest/10-lowest)\n",
              "0    1  ...                                     9\n",
              "8    9  ...                                     7\n",
              "16  17  ...                                     9\n",
              "24  25  ...                                     7\n",
              "32  33  ...                                     9\n",
              "\n",
              "[5 rows x 62 columns]"
            ]
          },
          "metadata": {
            "tags": []
          },
          "execution_count": 9
        }
      ]
    },
    {
      "cell_type": "code",
      "metadata": {
        "id": "j4s7NDnC-xG2",
        "outputId": "7d9e6c5b-0d15-4e5a-de39-f169c654050a",
        "colab": {
          "base_uri": "https://localhost:8080/",
          "height": 1000
        }
      },
      "source": [
        "amostra.info()"
      ],
      "execution_count": 10,
      "outputs": [
        {
          "output_type": "stream",
          "text": [
            "<class 'pandas.core.frame.DataFrame'>\n",
            "Int64Index: 1875 entries, 0 to 14992\n",
            "Data columns (total 62 columns):\n",
            " #   Column                                 Non-Null Count  Dtype  \n",
            "---  ------                                 --------------  -----  \n",
            " 0   ID                                     1875 non-null   int64  \n",
            " 1   Name                                   1875 non-null   object \n",
            " 2   Department                             1875 non-null   object \n",
            " 3   GEO                                    1875 non-null   object \n",
            " 4   Role                                   1875 non-null   object \n",
            " 5   Rising_Star                            2 non-null      float64\n",
            " 6   Will_Relocate                          1875 non-null   int64  \n",
            " 7   Critical                               59 non-null     float64\n",
            " 8   Trending Perf                          1875 non-null   int64  \n",
            " 9   Talent_Level                           1875 non-null   int64  \n",
            " 10  Validated_Talent_Level                 1875 non-null   int64  \n",
            " 11  Percent_Remote                         1875 non-null   float64\n",
            " 12  EMP_Sat_OnPrem_1                       1859 non-null   float64\n",
            " 13  EMP_Sat_OnPrem_2                       1859 non-null   float64\n",
            " 14  EMP_Sat_OnPrem_3                       1859 non-null   float64\n",
            " 15  EMP_Sat_OnPrem_4                       1859 non-null   float64\n",
            " 16  EMP_Sat_OnPrem_5                       1859 non-null   float64\n",
            " 17  EMP_Sat_Remote_1                       1875 non-null   int64  \n",
            " 18  EMP_Sat_Remote_2                       1875 non-null   int64  \n",
            " 19  EMP_Sat_Remote_3                       1875 non-null   int64  \n",
            " 20  EMP_Sat_Remote_4                       1875 non-null   int64  \n",
            " 21  EMP_Sat_Remote_5                       1875 non-null   int64  \n",
            " 22  EMP_Engagement_1                       1875 non-null   int64  \n",
            " 23  EMP_Engagement_2                       1875 non-null   int64  \n",
            " 24  EMP_Engagement_3                       1875 non-null   int64  \n",
            " 25  EMP_Engagement_4                       1875 non-null   int64  \n",
            " 26  EMP_Engagement_5                       1875 non-null   int64  \n",
            " 27  last_evaluation                        1875 non-null   float64\n",
            " 28  number_project                         1875 non-null   int64  \n",
            " 29  average_montly_hours                   1875 non-null   int64  \n",
            " 30  time_spend_company                     1875 non-null   int64  \n",
            " 31  Work_accident                          1875 non-null   int64  \n",
            " 32  left_Company                           1875 non-null   int64  \n",
            " 33  CSR Factor                             215 non-null    float64\n",
            " 34  promotion_last_5years                  1875 non-null   int64  \n",
            " 35  sales                                  1875 non-null   object \n",
            " 36  salary                                 1875 non-null   object \n",
            " 37  Gender                                 1875 non-null   object \n",
            " 38  LinkedIn_Hits                          1875 non-null   int64  \n",
            " 39  Emp_Work_Status2                       1875 non-null   int64  \n",
            " 40  Emp_Work_Status_3                      1875 non-null   int64  \n",
            " 41  Emp_Work_Status_4                      1875 non-null   int64  \n",
            " 42  Emp_Work_Status_5                      1875 non-null   int64  \n",
            " 43  Emp_Identity                           1875 non-null   int64  \n",
            " 44  Emp_Role                               1875 non-null   int64  \n",
            " 45  Emp_Position                           1875 non-null   int64  \n",
            " 46  Emp_Title                              1875 non-null   int64  \n",
            " 47  Women_Leave                            939 non-null    float64\n",
            " 48  Men_Leave                              593 non-null    float64\n",
            " 49  Emp_Competitive_1                      1875 non-null   int64  \n",
            " 50  Emp_Competitive_2                      1875 non-null   int64  \n",
            " 51  Emp_Competitive_3                      1875 non-null   int64  \n",
            " 52  Emp_Competitive_4                      1875 non-null   int64  \n",
            " 53  Emp_Competitive_5                      1875 non-null   int64  \n",
            " 54  Emp_Collaborative_1                    1875 non-null   int64  \n",
            " 55  Emp_Collaborative_2                    1875 non-null   int64  \n",
            " 56  Emp_Collaborative_3                    1875 non-null   int64  \n",
            " 57  Emp_Collaborative_4                    1875 non-null   int64  \n",
            " 58  Emp_Collaborative_5                    1875 non-null   int64  \n",
            " 59  Sensor_StepCount                       1875 non-null   int64  \n",
            " 60  Sensor_Heartbeat(Average/Min)          1875 non-null   int64  \n",
            " 61  Sensor_Proximity(1-highest/10-lowest)  1875 non-null   int64  \n",
            "dtypes: float64(12), int64(43), object(7)\n",
            "memory usage: 922.9+ KB\n"
          ],
          "name": "stdout"
        }
      ]
    },
    {
      "cell_type": "markdown",
      "metadata": {
        "id": "UGw0FSAe-3su"
      },
      "source": [
        "Como podemos observar, a nossa amostra gerada varia a quantidade de registros de acordo com o número gerado aleatoriamente, selecionando assim, de maneira sistemática."
      ]
    },
    {
      "cell_type": "markdown",
      "metadata": {
        "id": "i21-agelAoXP"
      },
      "source": [
        "# Exemplo 2.1"
      ]
    },
    {
      "cell_type": "code",
      "metadata": {
        "id": "c99VhPhzKz7a",
        "outputId": "f09820d6-70fc-4c73-c47c-0e3741dfd469",
        "colab": {
          "base_uri": "https://localhost:8080/",
          "height": 193
        }
      },
      "source": [
        "#criando nova amostra com somente 3 registros.\n",
        "nova_amostra = amostra.sample(n=3)\n",
        "nova_amostra"
      ],
      "execution_count": 17,
      "outputs": [
        {
          "output_type": "execute_result",
          "data": {
            "text/html": [
              "<div>\n",
              "<style scoped>\n",
              "    .dataframe tbody tr th:only-of-type {\n",
              "        vertical-align: middle;\n",
              "    }\n",
              "\n",
              "    .dataframe tbody tr th {\n",
              "        vertical-align: top;\n",
              "    }\n",
              "\n",
              "    .dataframe thead th {\n",
              "        text-align: right;\n",
              "    }\n",
              "</style>\n",
              "<table border=\"1\" class=\"dataframe\">\n",
              "  <thead>\n",
              "    <tr style=\"text-align: right;\">\n",
              "      <th></th>\n",
              "      <th>ID</th>\n",
              "      <th>Name</th>\n",
              "      <th>Department</th>\n",
              "      <th>GEO</th>\n",
              "      <th>Role</th>\n",
              "      <th>Rising_Star</th>\n",
              "      <th>Will_Relocate</th>\n",
              "      <th>Critical</th>\n",
              "      <th>Trending Perf</th>\n",
              "      <th>Talent_Level</th>\n",
              "      <th>Validated_Talent_Level</th>\n",
              "      <th>Percent_Remote</th>\n",
              "      <th>EMP_Sat_OnPrem_1</th>\n",
              "      <th>EMP_Sat_OnPrem_2</th>\n",
              "      <th>EMP_Sat_OnPrem_3</th>\n",
              "      <th>EMP_Sat_OnPrem_4</th>\n",
              "      <th>EMP_Sat_OnPrem_5</th>\n",
              "      <th>EMP_Sat_Remote_1</th>\n",
              "      <th>EMP_Sat_Remote_2</th>\n",
              "      <th>EMP_Sat_Remote_3</th>\n",
              "      <th>EMP_Sat_Remote_4</th>\n",
              "      <th>EMP_Sat_Remote_5</th>\n",
              "      <th>EMP_Engagement_1</th>\n",
              "      <th>EMP_Engagement_2</th>\n",
              "      <th>EMP_Engagement_3</th>\n",
              "      <th>EMP_Engagement_4</th>\n",
              "      <th>EMP_Engagement_5</th>\n",
              "      <th>last_evaluation</th>\n",
              "      <th>number_project</th>\n",
              "      <th>average_montly_hours</th>\n",
              "      <th>time_spend_company</th>\n",
              "      <th>Work_accident</th>\n",
              "      <th>left_Company</th>\n",
              "      <th>CSR Factor</th>\n",
              "      <th>promotion_last_5years</th>\n",
              "      <th>sales</th>\n",
              "      <th>salary</th>\n",
              "      <th>Gender</th>\n",
              "      <th>LinkedIn_Hits</th>\n",
              "      <th>Emp_Work_Status2</th>\n",
              "      <th>Emp_Work_Status_3</th>\n",
              "      <th>Emp_Work_Status_4</th>\n",
              "      <th>Emp_Work_Status_5</th>\n",
              "      <th>Emp_Identity</th>\n",
              "      <th>Emp_Role</th>\n",
              "      <th>Emp_Position</th>\n",
              "      <th>Emp_Title</th>\n",
              "      <th>Women_Leave</th>\n",
              "      <th>Men_Leave</th>\n",
              "      <th>Emp_Competitive_1</th>\n",
              "      <th>Emp_Competitive_2</th>\n",
              "      <th>Emp_Competitive_3</th>\n",
              "      <th>Emp_Competitive_4</th>\n",
              "      <th>Emp_Competitive_5</th>\n",
              "      <th>Emp_Collaborative_1</th>\n",
              "      <th>Emp_Collaborative_2</th>\n",
              "      <th>Emp_Collaborative_3</th>\n",
              "      <th>Emp_Collaborative_4</th>\n",
              "      <th>Emp_Collaborative_5</th>\n",
              "      <th>Sensor_StepCount</th>\n",
              "      <th>Sensor_Heartbeat(Average/Min)</th>\n",
              "      <th>Sensor_Proximity(1-highest/10-lowest)</th>\n",
              "    </tr>\n",
              "  </thead>\n",
              "  <tbody>\n",
              "    <tr>\n",
              "      <th>14552</th>\n",
              "      <td>14553</td>\n",
              "      <td>BASSETT</td>\n",
              "      <td>Finance</td>\n",
              "      <td>Colombia</td>\n",
              "      <td>Manager</td>\n",
              "      <td>NaN</td>\n",
              "      <td>0</td>\n",
              "      <td>NaN</td>\n",
              "      <td>3</td>\n",
              "      <td>6</td>\n",
              "      <td>6</td>\n",
              "      <td>0.8</td>\n",
              "      <td>3.0</td>\n",
              "      <td>3.0</td>\n",
              "      <td>4.0</td>\n",
              "      <td>3.0</td>\n",
              "      <td>4.0</td>\n",
              "      <td>5</td>\n",
              "      <td>5</td>\n",
              "      <td>4</td>\n",
              "      <td>5</td>\n",
              "      <td>4</td>\n",
              "      <td>5</td>\n",
              "      <td>5</td>\n",
              "      <td>4</td>\n",
              "      <td>4</td>\n",
              "      <td>3</td>\n",
              "      <td>0.99</td>\n",
              "      <td>3</td>\n",
              "      <td>185</td>\n",
              "      <td>2</td>\n",
              "      <td>0</td>\n",
              "      <td>0</td>\n",
              "      <td>NaN</td>\n",
              "      <td>0</td>\n",
              "      <td>support</td>\n",
              "      <td>medium</td>\n",
              "      <td>F</td>\n",
              "      <td>9</td>\n",
              "      <td>1</td>\n",
              "      <td>5</td>\n",
              "      <td>2</td>\n",
              "      <td>4</td>\n",
              "      <td>4</td>\n",
              "      <td>3</td>\n",
              "      <td>3</td>\n",
              "      <td>4</td>\n",
              "      <td>1.0</td>\n",
              "      <td>NaN</td>\n",
              "      <td>2</td>\n",
              "      <td>5</td>\n",
              "      <td>2</td>\n",
              "      <td>3</td>\n",
              "      <td>4</td>\n",
              "      <td>2</td>\n",
              "      <td>5</td>\n",
              "      <td>5</td>\n",
              "      <td>2</td>\n",
              "      <td>1</td>\n",
              "      <td>4316</td>\n",
              "      <td>76</td>\n",
              "      <td>3</td>\n",
              "    </tr>\n",
              "    <tr>\n",
              "      <th>13192</th>\n",
              "      <td>13193</td>\n",
              "      <td>NOWLIN</td>\n",
              "      <td>IT</td>\n",
              "      <td>China</td>\n",
              "      <td>Manager</td>\n",
              "      <td>NaN</td>\n",
              "      <td>1</td>\n",
              "      <td>NaN</td>\n",
              "      <td>3</td>\n",
              "      <td>6</td>\n",
              "      <td>6</td>\n",
              "      <td>0.8</td>\n",
              "      <td>3.0</td>\n",
              "      <td>3.0</td>\n",
              "      <td>4.0</td>\n",
              "      <td>3.0</td>\n",
              "      <td>4.0</td>\n",
              "      <td>3</td>\n",
              "      <td>5</td>\n",
              "      <td>4</td>\n",
              "      <td>4</td>\n",
              "      <td>5</td>\n",
              "      <td>1</td>\n",
              "      <td>2</td>\n",
              "      <td>3</td>\n",
              "      <td>2</td>\n",
              "      <td>1</td>\n",
              "      <td>0.94</td>\n",
              "      <td>7</td>\n",
              "      <td>280</td>\n",
              "      <td>5</td>\n",
              "      <td>0</td>\n",
              "      <td>1</td>\n",
              "      <td>NaN</td>\n",
              "      <td>0</td>\n",
              "      <td>support</td>\n",
              "      <td>low</td>\n",
              "      <td>M</td>\n",
              "      <td>10</td>\n",
              "      <td>1</td>\n",
              "      <td>5</td>\n",
              "      <td>2</td>\n",
              "      <td>2</td>\n",
              "      <td>2</td>\n",
              "      <td>2</td>\n",
              "      <td>2</td>\n",
              "      <td>2</td>\n",
              "      <td>NaN</td>\n",
              "      <td>1.0</td>\n",
              "      <td>2</td>\n",
              "      <td>3</td>\n",
              "      <td>2</td>\n",
              "      <td>5</td>\n",
              "      <td>3</td>\n",
              "      <td>4</td>\n",
              "      <td>5</td>\n",
              "      <td>1</td>\n",
              "      <td>1</td>\n",
              "      <td>3</td>\n",
              "      <td>1199</td>\n",
              "      <td>90</td>\n",
              "      <td>8</td>\n",
              "    </tr>\n",
              "    <tr>\n",
              "      <th>5088</th>\n",
              "      <td>5089</td>\n",
              "      <td>CREASON</td>\n",
              "      <td>Operations</td>\n",
              "      <td>Australia</td>\n",
              "      <td>Senior Manager</td>\n",
              "      <td>NaN</td>\n",
              "      <td>1</td>\n",
              "      <td>NaN</td>\n",
              "      <td>3</td>\n",
              "      <td>6</td>\n",
              "      <td>6</td>\n",
              "      <td>0.4</td>\n",
              "      <td>3.0</td>\n",
              "      <td>3.0</td>\n",
              "      <td>4.0</td>\n",
              "      <td>3.0</td>\n",
              "      <td>5.0</td>\n",
              "      <td>3</td>\n",
              "      <td>5</td>\n",
              "      <td>4</td>\n",
              "      <td>4</td>\n",
              "      <td>5</td>\n",
              "      <td>5</td>\n",
              "      <td>5</td>\n",
              "      <td>4</td>\n",
              "      <td>4</td>\n",
              "      <td>3</td>\n",
              "      <td>0.61</td>\n",
              "      <td>5</td>\n",
              "      <td>196</td>\n",
              "      <td>3</td>\n",
              "      <td>0</td>\n",
              "      <td>0</td>\n",
              "      <td>NaN</td>\n",
              "      <td>0</td>\n",
              "      <td>support</td>\n",
              "      <td>medium</td>\n",
              "      <td>M</td>\n",
              "      <td>44</td>\n",
              "      <td>2</td>\n",
              "      <td>3</td>\n",
              "      <td>2</td>\n",
              "      <td>2</td>\n",
              "      <td>2</td>\n",
              "      <td>1</td>\n",
              "      <td>2</td>\n",
              "      <td>1</td>\n",
              "      <td>NaN</td>\n",
              "      <td>1.0</td>\n",
              "      <td>2</td>\n",
              "      <td>5</td>\n",
              "      <td>2</td>\n",
              "      <td>4</td>\n",
              "      <td>5</td>\n",
              "      <td>3</td>\n",
              "      <td>1</td>\n",
              "      <td>2</td>\n",
              "      <td>5</td>\n",
              "      <td>2</td>\n",
              "      <td>2085</td>\n",
              "      <td>86</td>\n",
              "      <td>6</td>\n",
              "    </tr>\n",
              "  </tbody>\n",
              "</table>\n",
              "</div>"
            ],
            "text/plain": [
              "          ID  ... Sensor_Proximity(1-highest/10-lowest)\n",
              "14552  14553  ...                                     3\n",
              "13192  13193  ...                                     8\n",
              "5088    5089  ...                                     6\n",
              "\n",
              "[3 rows x 62 columns]"
            ]
          },
          "metadata": {
            "tags": []
          },
          "execution_count": 17
        }
      ]
    },
    {
      "cell_type": "markdown",
      "metadata": {
        "id": "6OOXzYu0BMZX"
      },
      "source": [
        "Para os dados descritos na nova amostra, os seguintes parâmetros populacionais podem ser definidos:\n",
        "\n",
        "i. Departamento de cada funcionário"
      ]
    },
    {
      "cell_type": "code",
      "metadata": {
        "id": "SMvuG3ZUBWYW",
        "outputId": "54447ae4-7c5b-40d7-f31b-45a3e4ae2982",
        "colab": {
          "base_uri": "https://localhost:8080/",
          "height": 35
        }
      },
      "source": [
        "#Todos os departamentos dos registros obtidos na amostra\n",
        "nova_amostra['Department'].unique()"
      ],
      "execution_count": 47,
      "outputs": [
        {
          "output_type": "execute_result",
          "data": {
            "text/plain": [
              "array(['Finance', 'IT', 'Operations'], dtype=object)"
            ]
          },
          "metadata": {
            "tags": []
          },
          "execution_count": 47
        }
      ]
    },
    {
      "cell_type": "code",
      "metadata": {
        "id": "Tqyq2G45B-BC",
        "outputId": "4eeed24e-0a1f-4aae-a9ee-169ef01319b7",
        "colab": {
          "base_uri": "https://localhost:8080/",
          "height": 35
        }
      },
      "source": [
        "print('D = {} = Y'.format(nova_amostra['Department'].unique()))"
      ],
      "execution_count": 48,
      "outputs": [
        {
          "output_type": "stream",
          "text": [
            "D = ['Finance' 'IT' 'Operations'] = Y\n"
          ],
          "name": "stdout"
        }
      ]
    },
    {
      "cell_type": "markdown",
      "metadata": {
        "id": "5y2z8DqLDiaZ"
      },
      "source": [
        "ii. Para o vetor (FiTi)'"
      ]
    },
    {
      "cell_type": "code",
      "metadata": {
        "id": "MehtfLZSCH4A",
        "outputId": "5068d2c7-4172-4ffc-ad48-530f084bef1c",
        "colab": {
          "base_uri": "https://localhost:8080/",
          "height": 90
        }
      },
      "source": [
        "# Obtendo os valores da última pontuação da avaliação desse funcionário\n",
        "nova_amostra.last_evaluation"
      ],
      "execution_count": 32,
      "outputs": [
        {
          "output_type": "execute_result",
          "data": {
            "text/plain": [
              "14552    0.99\n",
              "13192    0.94\n",
              "5088     0.61\n",
              "Name: last_evaluation, dtype: float64"
            ]
          },
          "metadata": {
            "tags": []
          },
          "execution_count": 32
        }
      ]
    },
    {
      "cell_type": "code",
      "metadata": {
        "id": "LZzv9qodF47J",
        "outputId": "4d678e9f-4fa9-49f4-e2ca-cc6b37f3c3b4",
        "colab": {
          "base_uri": "https://localhost:8080/",
          "height": 90
        }
      },
      "source": [
        "# Obtendo os valores dos números de projetos que o funcionário trabalhou\n",
        "nova_amostra.number_project"
      ],
      "execution_count": 40,
      "outputs": [
        {
          "output_type": "execute_result",
          "data": {
            "text/plain": [
              "14552    3\n",
              "13192    7\n",
              "5088     5\n",
              "Name: number_project, dtype: int64"
            ]
          },
          "metadata": {
            "tags": []
          },
          "execution_count": 40
        }
      ]
    },
    {
      "cell_type": "markdown",
      "metadata": {
        "id": "rqHpaNflEHqn"
      },
      "source": [
        "B = <br/> \n",
        "(0.99  0.94  0.61 <br/> \n",
        "3.00  7.00  5.00)<br/> \n"
      ]
    },
    {
      "cell_type": "markdown",
      "metadata": {
        "id": "XnrVpghwGV4T"
      },
      "source": [
        "Com relação à funções paramétricas populacionais, tem-se:\n"
      ]
    },
    {
      "cell_type": "markdown",
      "metadata": {
        "id": "iGV6w0LoGpDp"
      },
      "source": [
        "1. Tempo gasto em média na empresa."
      ]
    },
    {
      "cell_type": "code",
      "metadata": {
        "id": "JaM_OR-qF8yD",
        "outputId": "099a97e0-22ea-41f7-e57f-4db4802d41eb",
        "colab": {
          "base_uri": "https://localhost:8080/",
          "height": 35
        }
      },
      "source": [
        "# O método mean() devolve a média aritmética dos números dados a ele. \n",
        "nova_amostra['time_spend_company'].mean()"
      ],
      "execution_count": 39,
      "outputs": [
        {
          "output_type": "execute_result",
          "data": {
            "text/plain": [
              "3.3333333333333335"
            ]
          },
          "metadata": {
            "tags": []
          },
          "execution_count": 39
        }
      ]
    },
    {
      "cell_type": "markdown",
      "metadata": {
        "id": "tXYv65RDI78_"
      },
      "source": [
        "2. Média das variáveis 'last_evaluation' e 'number_project'."
      ]
    },
    {
      "cell_type": "code",
      "metadata": {
        "id": "aMEOqbkeGnkd",
        "outputId": "2e43ab26-9ea5-4344-fbda-a5e17dfff175",
        "colab": {
          "base_uri": "https://localhost:8080/",
          "height": 54
        }
      },
      "source": [
        "print('média da última avaliação: {:.2f}'.format(nova_amostra['last_evaluation'].mean()))\n",
        "print('média do número de projetos feitos pelos funcionários {}'.format(nova_amostra['number_project'].mean()))"
      ],
      "execution_count": 44,
      "outputs": [
        {
          "output_type": "stream",
          "text": [
            "média da última avaliação: 0.85\n",
            "média do número de projetos feitos pelos funcionários 5.0\n"
          ],
          "name": "stdout"
        }
      ]
    },
    {
      "cell_type": "markdown",
      "metadata": {
        "id": "o99BrUxEKhpm"
      },
      "source": [
        "3. Média de vezes que o funcionário visita o LinkedIn por nível de salário."
      ]
    },
    {
      "cell_type": "code",
      "metadata": {
        "id": "NZg8pK0jL_Jg",
        "outputId": "326e16b4-2eca-4f82-91c5-96fe10161b09",
        "colab": {
          "base_uri": "https://localhost:8080/",
          "height": 90
        }
      },
      "source": [
        "nova_amostra.groupby(by='salary').mean()['LinkedIn_Hits']"
      ],
      "execution_count": 52,
      "outputs": [
        {
          "output_type": "execute_result",
          "data": {
            "text/plain": [
              "salary\n",
              "low       10.0\n",
              "medium    26.5\n",
              "Name: LinkedIn_Hits, dtype: float64"
            ]
          },
          "metadata": {
            "tags": []
          },
          "execution_count": 52
        }
      ]
    },
    {
      "cell_type": "markdown",
      "metadata": {
        "id": "M3KxEJVPNxk7"
      },
      "source": [
        "a. Total populacional\n"
      ]
    },
    {
      "cell_type": "code",
      "metadata": {
        "id": "9uAv7DsbMXXd",
        "outputId": "5387d2db-45bb-41ec-df4f-de0ebc035db6",
        "colab": {
          "base_uri": "https://localhost:8080/",
          "height": 35
        }
      },
      "source": [
        "nova_amostra['time_spend_company'].sum()"
      ],
      "execution_count": 62,
      "outputs": [
        {
          "output_type": "execute_result",
          "data": {
            "text/plain": [
              "10"
            ]
          },
          "metadata": {
            "tags": []
          },
          "execution_count": 62
        }
      ]
    },
    {
      "cell_type": "markdown",
      "metadata": {
        "id": "KIi6zazPP-vi"
      },
      "source": [
        "b. Média populacional"
      ]
    },
    {
      "cell_type": "code",
      "metadata": {
        "id": "xjGfjaD9OABf",
        "outputId": "10191f7d-1053-4d1e-f525-f7ea76503159",
        "colab": {
          "base_uri": "https://localhost:8080/",
          "height": 35
        }
      },
      "source": [
        "nova_amostra['time_spend_company'].mean()"
      ],
      "execution_count": 70,
      "outputs": [
        {
          "output_type": "execute_result",
          "data": {
            "text/plain": [
              "3.3333333333333335"
            ]
          },
          "metadata": {
            "tags": []
          },
          "execution_count": 70
        }
      ]
    },
    {
      "cell_type": "markdown",
      "metadata": {
        "id": "b7mvcSxyQg6I"
      },
      "source": [
        "c. Variância populacional"
      ]
    },
    {
      "cell_type": "code",
      "metadata": {
        "id": "opqt2U55Q4a6",
        "outputId": "6f35874b-13f7-4585-b5ed-f0dbe3f25cc1",
        "colab": {
          "base_uri": "https://localhost:8080/",
          "height": 35
        }
      },
      "source": [
        "nova_amostra['time_spend_company'].var()"
      ],
      "execution_count": 72,
      "outputs": [
        {
          "output_type": "execute_result",
          "data": {
            "text/plain": [
              "2.3333333333333335"
            ]
          },
          "metadata": {
            "tags": []
          },
          "execution_count": 72
        }
      ]
    },
    {
      "cell_type": "markdown",
      "metadata": {
        "id": "nc8ZCjj0QrLN"
      },
      "source": [
        "d. Covariância populacional"
      ]
    },
    {
      "cell_type": "code",
      "metadata": {
        "id": "VHV-l4_DRANt",
        "outputId": "44165546-b3d5-4a7d-f81a-c53283791322",
        "colab": {
          "base_uri": "https://localhost:8080/",
          "height": 54
        }
      },
      "source": [
        "import numpy as np\n",
        "\n",
        "X = np.stack((nova_amostra['time_spend_company'], nova_amostra['number_project']), axis=0)\n",
        "np.cov(X)"
      ],
      "execution_count": 86,
      "outputs": [
        {
          "output_type": "execute_result",
          "data": {
            "text/plain": [
              "array([[2.33333333, 3.        ],\n",
              "       [3.        , 4.        ]])"
            ]
          },
          "metadata": {
            "tags": []
          },
          "execution_count": 86
        }
      ]
    },
    {
      "cell_type": "markdown",
      "metadata": {
        "id": "w7nfimQaQtj1"
      },
      "source": [
        "e. Correlação populacional"
      ]
    },
    {
      "cell_type": "code",
      "metadata": {
        "id": "0iknBNMhS5-L",
        "outputId": "f81235cd-65fc-481b-e098-937ff59270d4",
        "colab": {
          "base_uri": "https://localhost:8080/",
          "height": 345
        }
      },
      "source": [
        "#correlação\n",
        "corr = nova_amostra.corr()\n",
        "\n",
        "#valores absolutos\n",
        "corr_target = abs(corr['time_spend_company'])\n",
        "\n",
        "#Selecionando as features com maior correlação com a variável de interesse\n",
        "relevant_features = corr_target[corr_target>0.8]\n",
        "relevant_features"
      ],
      "execution_count": 94,
      "outputs": [
        {
          "output_type": "execute_result",
          "data": {
            "text/plain": [
              "EMP_Engagement_1                         0.944911\n",
              "EMP_Engagement_2                         0.944911\n",
              "EMP_Engagement_3                         0.944911\n",
              "EMP_Engagement_4                         0.944911\n",
              "EMP_Engagement_5                         0.944911\n",
              "number_project                           0.981981\n",
              "average_montly_hours                     0.974248\n",
              "time_spend_company                       1.000000\n",
              "left_Company                             0.944911\n",
              "Emp_Competitive_2                        0.944911\n",
              "Emp_Competitive_4                        0.981981\n",
              "Emp_Collaborative_1                      0.981981\n",
              "Emp_Collaborative_3                      0.891042\n",
              "Emp_Collaborative_5                      0.981981\n",
              "Sensor_StepCount                         0.907171\n",
              "Sensor_Heartbeat(Average/Min)            0.907841\n",
              "Sensor_Proximity(1-highest/10-lowest)    0.953821\n",
              "Name: time_spend_company, dtype: float64"
            ]
          },
          "metadata": {
            "tags": []
          },
          "execution_count": 94
        }
      ]
    },
    {
      "cell_type": "markdown",
      "metadata": {
        "id": "h6s5CoY_QwrB"
      },
      "source": [
        "f. Razão populacional"
      ]
    },
    {
      "cell_type": "code",
      "metadata": {
        "id": "v3vZOrhRQOZR",
        "outputId": "5bbab269-ec7a-4999-9c74-ff2ec7824383",
        "colab": {
          "base_uri": "https://localhost:8080/",
          "height": 35
        }
      },
      "source": [
        "x = nova_amostra['time_spend_company'].sum()\n",
        "y = nova_amostra['number_project'].sum()\n",
        "r_populacional = x/y\n",
        "r_populacional"
      ],
      "execution_count": 102,
      "outputs": [
        {
          "output_type": "execute_result",
          "data": {
            "text/plain": [
              "0.6666666666666666"
            ]
          },
          "metadata": {
            "tags": []
          },
          "execution_count": 102
        }
      ]
    },
    {
      "cell_type": "markdown",
      "metadata": {
        "id": "KfOknRN6VQXR"
      },
      "source": [
        "g. Razão média populacional"
      ]
    },
    {
      "cell_type": "code",
      "metadata": {
        "id": "eY1P7TdNU7_D",
        "outputId": "7bd187fe-0e70-4093-c874-701867e40acb",
        "colab": {
          "base_uri": "https://localhost:8080/",
          "height": 35
        }
      },
      "source": [
        "r_populacional/3"
      ],
      "execution_count": 103,
      "outputs": [
        {
          "output_type": "execute_result",
          "data": {
            "text/plain": [
              "0.2222222222222222"
            ]
          },
          "metadata": {
            "tags": []
          },
          "execution_count": 103
        }
      ]
    },
    {
      "cell_type": "code",
      "metadata": {
        "id": "8HEcWIpkVha7"
      },
      "source": [
        ""
      ],
      "execution_count": null,
      "outputs": []
    }
  ]
}